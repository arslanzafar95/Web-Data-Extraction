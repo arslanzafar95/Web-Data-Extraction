{
 "cells": [
  {
   "cell_type": "code",
   "execution_count": null,
   "metadata": {},
   "outputs": [],
   "source": [
    "import numpy as np\n",
    "import pandas as pd\n",
    "from time import sleep\n",
    "#pip install googlesearch-python\n",
    "import logging\n",
    "from selenium import webdriver\n",
    "from selenium.webdriver.common.by import By\n",
    "from webdriver_manager.chrome import ChromeDriverManager"
   ]
  },
  {
   "cell_type": "code",
   "execution_count": null,
   "metadata": {},
   "outputs": [],
   "source": [
    "df=pd.read_excel('companies.xlsx')\n",
    "df.head()"
   ]
  },
  {
   "cell_type": "code",
   "execution_count": null,
   "metadata": {},
   "outputs": [],
   "source": [
    "# get the linkedin profile link for particular company from google search API\n",
    "links=[]\n",
    "counter=0\n",
    "for company in df[\"Name\"]:\n",
    "    print(company)\n",
    "    try: \n",
    "        from googlesearch import search \n",
    "    except ImportError:  \n",
    "        print(\"No module named 'google' found\")\n",
    "    counter+=1\n",
    "    print(counter)\n",
    "    \n",
    "    # write the search keyword here \n",
    "    search_query = company + ' linkedin'\n",
    "    list_of_links=[]\n",
    "  \n",
    "    for link in search(search_query): \n",
    "        list_of_links.append(link)\n",
    "    print(list_of_links)\n",
    "    \n",
    "    # we can take the most relevant link here from our search, which for now we take the first one\n",
    "    links.append(list_of_links[0])\n",
    "    #print(list_of_links)"
   ]
  },
  {
   "cell_type": "code",
   "execution_count": null,
   "metadata": {},
   "outputs": [],
   "source": [
    "links"
   ]
  },
  {
   "cell_type": "code",
   "execution_count": null,
   "metadata": {
    "scrolled": true
   },
   "outputs": [],
   "source": [
    "def extractEmpNo(employeeText):\n",
    "    # this function returns the employee number for the particular company from linkedin page\n",
    "    indexEmployee = employeeText.find('employees')\n",
    "    numEmployee = employeeText[8:indexEmployee]\n",
    "    return numEmployee\n",
    "\n",
    "def fetchEmployeeNumber(CompanyName):   \n",
    "    print('Initiating Selenium ---')\n",
    "    driver = webdriver.Chrome(ChromeDriverManager().install())\n",
    "    # driver = webdriver.Chrome('give path to your file here')\n",
    "    print('Opening LinkedIn ---')\n",
    "    driver.get('https://www.linkedin.com')\n",
    "    \n",
    "    # signing in to linkedin...\n",
    "    signInButtonElem = driver.find_element_by_link_text(\"Sign in\")\n",
    "    sleep(10)\n",
    "    signInButtonElem.click()\n",
    "    username = driver.find_element_by_id(\"username\")\n",
    "    sleep(5)\n",
    "    username.send_keys('-- add username to login to linkedin here --')\n",
    "    sleep(10)\n",
    "    password = driver.find_element_by_id(\"password\")\n",
    "    sleep(5)\n",
    "    password.send_keys('-- add relevant account password here --')\n",
    "    sleep(10)\n",
    "    log_in_button = driver.find_element_by_xpath('//*[@type=\"submit\"]')\n",
    "    sleep(10)\n",
    "    log_in_button.click() \n",
    "    try:\n",
    "        # in case there is phone verification, then skip it\n",
    "        enter_phone_number = driver.find_element_by_class_name('//*[@id=\"ember983\"]/button')\n",
    "        enter_phone_number.click()\n",
    "    except Exception as e:\n",
    "        print('element not found'+str(e))\n",
    "    sleep(10)\n",
    "    companyName = CompanyName\n",
    "    print(companyName)\n",
    "    numEmployeeText = ''\n",
    "    numEmp = 0 \n",
    "    try:\n",
    "        # open company linkedin page and scrape relevant information\n",
    "        absoluteUrl=CompanyName\n",
    "        driver.get(absoluteUrl)\n",
    "        sleep(10)\n",
    "        numEmployeeLink = driver.find_element_by_partial_link_text('See all')\n",
    "        numEmployeeText = numEmployeeLink.text\n",
    "        numEmp = int(extractEmpNo(numEmployeeText))\n",
    "        print(numEmp)\n",
    "        if(numEmp > 0):\n",
    "            return str(numEmp) + '#' + str(absoluteUrl)   \n",
    "    except Exception as e3:\n",
    "        print(companyName + ' company does not exist' + str(e3))\n",
    "        numEmp= 0\n",
    "    finally:\n",
    "        driver.close()\n",
    "    return numEmp  \n",
    "\n",
    "def main():\n",
    "    counter=0  \n",
    "    finalList = [] \n",
    "    finalList.append(['Name','Link','empNumCompany'])\n",
    "    for link in links:\n",
    "        counter+=1\n",
    "        print(counter)\n",
    "        print(link)    \n",
    "        templist = []\n",
    "        try:\n",
    "            templist.append(link)\n",
    "            empNumCompany  = fetchEmployeeNumber(link)\n",
    "            empNumCompanySplit = empNumCompany.split(\"#\")\n",
    "            templist.append(empNumCompanySplit[0])\n",
    "            finalList.append(templist)\n",
    "        except Exception as e:\n",
    "            templist.append('-NA-')\n",
    "            finalList.append(templist)\n",
    "        print(templist)   \n",
    "    \n",
    "    # create dataframe from data stored in list of lists and save it\n",
    "    dataFrame = pd.DataFrame(finalList)\n",
    "    dataFrame.to_excel('scraped_data.xlsx',index=False)"
   ]
  },
  {
   "cell_type": "code",
   "execution_count": null,
   "metadata": {},
   "outputs": [],
   "source": [
    "main()"
   ]
  },
  {
   "cell_type": "code",
   "execution_count": null,
   "metadata": {},
   "outputs": [],
   "source": [
    "# END"
   ]
  }
 ],
 "metadata": {
  "kernelspec": {
   "display_name": "Python 3",
   "language": "python",
   "name": "python3"
  },
  "language_info": {
   "codemirror_mode": {
    "name": "ipython",
    "version": 3
   },
   "file_extension": ".py",
   "mimetype": "text/x-python",
   "name": "python",
   "nbconvert_exporter": "python",
   "pygments_lexer": "ipython3",
   "version": "3.8.3"
  }
 },
 "nbformat": 4,
 "nbformat_minor": 4
}
